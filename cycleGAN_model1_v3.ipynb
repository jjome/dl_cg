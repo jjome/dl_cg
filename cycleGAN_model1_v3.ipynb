{
  "cells": [
    {
      "cell_type": "markdown",
      "metadata": {
        "id": "view-in-github",
        "colab_type": "text"
      },
      "source": [
        "<a href=\"https://colab.research.google.com/github/jjome/dl_cg/blob/master/cycleGAN_model1_v3.ipynb\" target=\"_parent\"><img src=\"https://colab.research.google.com/assets/colab-badge.svg\" alt=\"Open In Colab\"/></a>"
      ]
    },
    {
      "cell_type": "code",
      "execution_count": 1,
      "metadata": {
        "colab": {
          "base_uri": "https://localhost:8080/"
        },
        "id": "qKzJ0QD23lC_",
        "outputId": "406dd876-893e-4e2c-dfa3-492a741bd11b"
      },
      "outputs": [
        {
          "output_type": "stream",
          "name": "stdout",
          "text": [
            "Requirement already satisfied: torch in /usr/local/lib/python3.10/dist-packages (2.3.0+cu121)\n",
            "Requirement already satisfied: torchvision in /usr/local/lib/python3.10/dist-packages (0.18.0+cu121)\n",
            "Requirement already satisfied: pillow in /usr/local/lib/python3.10/dist-packages (9.4.0)\n",
            "Requirement already satisfied: numpy in /usr/local/lib/python3.10/dist-packages (1.25.2)\n",
            "Requirement already satisfied: matplotlib in /usr/local/lib/python3.10/dist-packages (3.7.1)\n",
            "Requirement already satisfied: filelock in /usr/local/lib/python3.10/dist-packages (from torch) (3.14.0)\n",
            "Requirement already satisfied: typing-extensions>=4.8.0 in /usr/local/lib/python3.10/dist-packages (from torch) (4.11.0)\n",
            "Requirement already satisfied: sympy in /usr/local/lib/python3.10/dist-packages (from torch) (1.12)\n",
            "Requirement already satisfied: networkx in /usr/local/lib/python3.10/dist-packages (from torch) (3.3)\n",
            "Requirement already satisfied: jinja2 in /usr/local/lib/python3.10/dist-packages (from torch) (3.1.4)\n",
            "Requirement already satisfied: fsspec in /usr/local/lib/python3.10/dist-packages (from torch) (2023.6.0)\n",
            "Requirement already satisfied: nvidia-cuda-nvrtc-cu12==12.1.105 in /usr/local/lib/python3.10/dist-packages (from torch) (12.1.105)\n",
            "Requirement already satisfied: nvidia-cuda-runtime-cu12==12.1.105 in /usr/local/lib/python3.10/dist-packages (from torch) (12.1.105)\n",
            "Requirement already satisfied: nvidia-cuda-cupti-cu12==12.1.105 in /usr/local/lib/python3.10/dist-packages (from torch) (12.1.105)\n",
            "Requirement already satisfied: nvidia-cudnn-cu12==8.9.2.26 in /usr/local/lib/python3.10/dist-packages (from torch) (8.9.2.26)\n",
            "Requirement already satisfied: nvidia-cublas-cu12==12.1.3.1 in /usr/local/lib/python3.10/dist-packages (from torch) (12.1.3.1)\n",
            "Requirement already satisfied: nvidia-cufft-cu12==11.0.2.54 in /usr/local/lib/python3.10/dist-packages (from torch) (11.0.2.54)\n",
            "Requirement already satisfied: nvidia-curand-cu12==10.3.2.106 in /usr/local/lib/python3.10/dist-packages (from torch) (10.3.2.106)\n",
            "Requirement already satisfied: nvidia-cusolver-cu12==11.4.5.107 in /usr/local/lib/python3.10/dist-packages (from torch) (11.4.5.107)\n",
            "Requirement already satisfied: nvidia-cusparse-cu12==12.1.0.106 in /usr/local/lib/python3.10/dist-packages (from torch) (12.1.0.106)\n",
            "Requirement already satisfied: nvidia-nccl-cu12==2.20.5 in /usr/local/lib/python3.10/dist-packages (from torch) (2.20.5)\n",
            "Requirement already satisfied: nvidia-nvtx-cu12==12.1.105 in /usr/local/lib/python3.10/dist-packages (from torch) (12.1.105)\n",
            "Requirement already satisfied: triton==2.3.0 in /usr/local/lib/python3.10/dist-packages (from torch) (2.3.0)\n",
            "Requirement already satisfied: nvidia-nvjitlink-cu12 in /usr/local/lib/python3.10/dist-packages (from nvidia-cusolver-cu12==11.4.5.107->torch) (12.5.40)\n",
            "Requirement already satisfied: contourpy>=1.0.1 in /usr/local/lib/python3.10/dist-packages (from matplotlib) (1.2.1)\n",
            "Requirement already satisfied: cycler>=0.10 in /usr/local/lib/python3.10/dist-packages (from matplotlib) (0.12.1)\n",
            "Requirement already satisfied: fonttools>=4.22.0 in /usr/local/lib/python3.10/dist-packages (from matplotlib) (4.51.0)\n",
            "Requirement already satisfied: kiwisolver>=1.0.1 in /usr/local/lib/python3.10/dist-packages (from matplotlib) (1.4.5)\n",
            "Requirement already satisfied: packaging>=20.0 in /usr/local/lib/python3.10/dist-packages (from matplotlib) (24.0)\n",
            "Requirement already satisfied: pyparsing>=2.3.1 in /usr/local/lib/python3.10/dist-packages (from matplotlib) (3.1.2)\n",
            "Requirement already satisfied: python-dateutil>=2.7 in /usr/local/lib/python3.10/dist-packages (from matplotlib) (2.8.2)\n",
            "Requirement already satisfied: six>=1.5 in /usr/local/lib/python3.10/dist-packages (from python-dateutil>=2.7->matplotlib) (1.16.0)\n",
            "Requirement already satisfied: MarkupSafe>=2.0 in /usr/local/lib/python3.10/dist-packages (from jinja2->torch) (2.1.5)\n",
            "Requirement already satisfied: mpmath>=0.19 in /usr/local/lib/python3.10/dist-packages (from sympy->torch) (1.3.0)\n"
          ]
        }
      ],
      "source": [
        "!pip install torch torchvision pillow numpy matplotlib"
      ]
    },
    {
      "cell_type": "markdown",
      "metadata": {
        "id": "cJSlUqHVjcQw"
      },
      "source": [
        "### Colab 마운트"
      ]
    },
    {
      "cell_type": "code",
      "execution_count": 2,
      "metadata": {
        "id": "CuJp_EpC3mck"
      },
      "outputs": [],
      "source": [
        "# # This mounts your Google Drive to the Colab VM.\n",
        "# from google.colab import drive\n",
        "# drive.mount('/content/drive')\n",
        "\n",
        "# FOLDERNAME = 'test'\n",
        "# assert FOLDERNAME is not None, \"[!] Enter the foldername.\"\n",
        "\n",
        "# import sys\n",
        "# sys.path.append('/content/drive/MyDrive/{}'.format(FOLDERNAME))\n",
        "\n",
        "# # Change directory to current folder\n",
        "# %cd /content/drive/MyDrive/$FOLDERNAME"
      ]
    },
    {
      "cell_type": "code",
      "source": [
        "!git clone https://github.com/jjome/dl_cg.git"
      ],
      "metadata": {
        "colab": {
          "base_uri": "https://localhost:8080/"
        },
        "id": "2Un3aUhAWF_e",
        "outputId": "8f01782e-0897-445d-fb77-a72315faa8f7"
      },
      "execution_count": 3,
      "outputs": [
        {
          "output_type": "stream",
          "name": "stdout",
          "text": [
            "fatal: destination path 'dl_cg' already exists and is not an empty directory.\n"
          ]
        }
      ]
    },
    {
      "cell_type": "markdown",
      "metadata": {
        "id": "V3nwJu5_je57"
      },
      "source": [
        "필요한 라이브러리 import"
      ]
    },
    {
      "cell_type": "code",
      "execution_count": 4,
      "metadata": {
        "id": "wxUTF-cX3oCq"
      },
      "outputs": [],
      "source": [
        "import os\n",
        "import shutil\n",
        "import itertools\n",
        "import torch.optim as optim\n",
        "import torch\n",
        "import torch.nn as nn\n",
        "from torchvision import transforms, datasets\n",
        "from torch.utils.data import DataLoader"
      ]
    },
    {
      "cell_type": "markdown",
      "metadata": {
        "id": "FOvwjNXfjiZ3"
      },
      "source": [
        "### 사진 파일 불러오기"
      ]
    },
    {
      "cell_type": "markdown",
      "metadata": {
        "id": "O0fQb7eojlFS"
      },
      "source": [
        "'dataset' 파일 안에 'older' 파일과 'younger' 파일이 있는 형태여야 함"
      ]
    },
    {
      "cell_type": "code",
      "execution_count": 5,
      "metadata": {
        "id": "vqnm0IHJ3rpB"
      },
      "outputs": [],
      "source": [
        "# Define the base directories\n",
        "target_dir = '/content/dl_cg/dataset4'\n",
        "older_dir = os.path.join(target_dir, 'older')\n",
        "younger_dir = os.path.join(target_dir, 'younger')"
      ]
    },
    {
      "cell_type": "markdown",
      "metadata": {
        "id": "8j5woZwejsRw"
      },
      "source": [
        "### transformations, dataloaders, batch size"
      ]
    },
    {
      "cell_type": "code",
      "execution_count": 6,
      "metadata": {
        "colab": {
          "base_uri": "https://localhost:8080/"
        },
        "id": "p0-4QGw54KyH",
        "outputId": "a8530144-5d0e-41a7-c7ff-27401dd1ca5e"
      },
      "outputs": [
        {
          "output_type": "stream",
          "name": "stderr",
          "text": [
            "/usr/local/lib/python3.10/dist-packages/torch/utils/data/dataloader.py:558: UserWarning: This DataLoader will create 4 worker processes in total. Our suggested max number of worker in current system is 2, which is smaller than what this DataLoader is going to create. Please be aware that excessive worker creation might get DataLoader running slow or even freeze, lower the worker number to avoid potential slowness/freeze if necessary.\n",
            "  warnings.warn(_create_warning_msg(\n"
          ]
        },
        {
          "output_type": "stream",
          "name": "stdout",
          "text": [
            "Shape of older image batch: torch.Size([32, 3, 256, 256])\n",
            "Shape of younger image batch: torch.Size([32, 3, 256, 256])\n"
          ]
        }
      ],
      "source": [
        "# Step 3: Run the PyTorch code\n",
        "import torch\n",
        "from torchvision import transforms, datasets\n",
        "from torch.utils.data import DataLoader\n",
        "\n",
        "# Define transformations\n",
        "transform = transforms.Compose([\n",
        "    #transforms.RandomRotation(degrees=10),\n",
        "    #transforms.RandomHorizontalFlip(),\n",
        "    #transforms.ColorJitter(brightness=0.2, contrast=0.2, saturation=0.2, hue=0.1),\n",
        "    transforms.RandomResizedCrop(size=(256, 256), scale=(0.8, 1.0)),\n",
        "    transforms.ToTensor(),\n",
        "    transforms.Normalize(mean=[0.5, 0.5, 0.5], std=[0.5, 0.5, 0.5])\n",
        "])\n",
        "\n",
        "# Define dataset and dataloaders\n",
        "older_dataset = datasets.ImageFolder(root=older_dir, transform=transform)\n",
        "younger_dataset = datasets.ImageFolder(root=younger_dir, transform=transform)\n",
        "\n",
        "# Ensure drop_last=True to handle incomplete batches\n",
        "batch_size = 32\n",
        "older_dataloader = DataLoader(older_dataset, batch_size=batch_size, shuffle=True, num_workers=4, drop_last=True)\n",
        "younger_dataloader = DataLoader(younger_dataset, batch_size=batch_size, shuffle=True, num_workers=4, drop_last=True)\n",
        "\n",
        "# Example: Print first few images to verify\n",
        "older_img, older_label = next(iter(older_dataloader))\n",
        "younger_img, younger_label = next(iter(younger_dataloader))\n",
        "\n",
        "print(\"Shape of older image batch:\", older_img.shape)\n",
        "print(\"Shape of younger image batch:\", younger_img.shape)"
      ]
    },
    {
      "cell_type": "markdown",
      "metadata": {
        "id": "7cmT7ySMjyLW"
      },
      "source": [
        "### generator, discriminator"
      ]
    },
    {
      "cell_type": "code",
      "execution_count": 7,
      "metadata": {
        "id": "WlUwu-yG4VBL"
      },
      "outputs": [],
      "source": [
        "import torch.nn as nn\n",
        "\n",
        "# Define the Generator\n",
        "class Generator(nn.Module):\n",
        "    def __init__(self):\n",
        "        super(Generator, self).__init__()\n",
        "        self.main = nn.Sequential(\n",
        "            nn.Conv2d(3, 64, kernel_size=4, stride=2, padding=1),\n",
        "            nn.ReLU(inplace=True),\n",
        "            nn.Conv2d(64, 128, kernel_size=4, stride=2, padding=1),\n",
        "            nn.BatchNorm2d(128),\n",
        "            nn.ReLU(inplace=True),\n",
        "            nn.Conv2d(128, 256, kernel_size=4, stride=2, padding=1),\n",
        "            nn.BatchNorm2d(256),\n",
        "            nn.ReLU(inplace=True),\n",
        "            nn.Conv2d(256, 512, kernel_size=4, stride=2, padding=1),\n",
        "            nn.BatchNorm2d(512),\n",
        "            nn.ReLU(inplace=True),\n",
        "            nn.ConvTranspose2d(512, 256, kernel_size=4, stride=2, padding=1),\n",
        "            nn.BatchNorm2d(256),\n",
        "            nn.ReLU(inplace=True),\n",
        "            nn.ConvTranspose2d(256, 128, kernel_size=4, stride=2, padding=1),\n",
        "            nn.BatchNorm2d(128),\n",
        "            nn.ReLU(inplace=True),\n",
        "            nn.ConvTranspose2d(128, 64, kernel_size=4, stride=2, padding=1),\n",
        "            nn.BatchNorm2d(64),\n",
        "            nn.ReLU(inplace=True),\n",
        "            nn.ConvTranspose2d(64, 3, kernel_size=4, stride=2, padding=1),\n",
        "            nn.Tanh()\n",
        "        )\n",
        "\n",
        "    def forward(self, x):\n",
        "        return self.main(x)\n",
        "\n",
        "# Define the Discriminator\n",
        "class Discriminator(nn.Module):\n",
        "    def __init__(self):\n",
        "        super(Discriminator, self).__init__()\n",
        "        self.main = nn.Sequential(\n",
        "            nn.Conv2d(3, 64, kernel_size=4, stride=2, padding=1),\n",
        "            nn.LeakyReLU(0.2, inplace=True),\n",
        "            nn.Conv2d(64, 128, kernel_size=4, stride=2, padding=1),\n",
        "            nn.BatchNorm2d(128),\n",
        "            nn.LeakyReLU(0.2, inplace=True),\n",
        "            nn.Conv2d(128, 256, kernel_size=4, stride=2, padding=1),\n",
        "            nn.BatchNorm2d(256),\n",
        "            nn.LeakyReLU(0.2, inplace=True),\n",
        "            nn.Conv2d(256, 512, kernel_size=4, stride=2, padding=1),\n",
        "            nn.BatchNorm2d(512),\n",
        "            nn.LeakyReLU(0.2, inplace=True),\n",
        "            nn.Conv2d(512, 1, kernel_size=4, stride=1, padding=1),\n",
        "            nn.Sigmoid()\n",
        "        )\n",
        "\n",
        "    def forward(self, x):\n",
        "        return self.main(x)\n"
      ]
    },
    {
      "cell_type": "markdown",
      "metadata": {
        "id": "CMKDEBN1j1Wn"
      },
      "source": [
        "### cycleGAN 정의하기"
      ]
    },
    {
      "cell_type": "code",
      "execution_count": 8,
      "metadata": {
        "colab": {
          "base_uri": "https://localhost:8080/"
        },
        "id": "3mi-07bt4WiQ",
        "outputId": "b59a1e70-a67f-40ee-bf2a-2ea5bfc788f8"
      },
      "outputs": [
        {
          "output_type": "stream",
          "name": "stdout",
          "text": [
            "cpu\n"
          ]
        }
      ],
      "source": [
        "class CycleGAN(nn.Module):\n",
        "    def __init__(self):\n",
        "        super(CycleGAN, self).__init__()\n",
        "        self.G_XtoY = Generator()\n",
        "        self.G_YtoX = Generator()\n",
        "        self.D_X = Discriminator()\n",
        "        self.D_Y = Discriminator()\n",
        "\n",
        "    def forward(self):\n",
        "        pass\n",
        "\n",
        "# Instantiate the model and move it to the appropriate device\n",
        "device = torch.device('cuda' if torch.cuda.is_available() else 'cpu')\n",
        "cycle_gan = CycleGAN().to(device)\n",
        "print(device)\n"
      ]
    },
    {
      "cell_type": "markdown",
      "metadata": {
        "id": "DMepj-kij4y2"
      },
      "source": [
        "### loss function, optimizer"
      ]
    },
    {
      "cell_type": "code",
      "execution_count": 9,
      "metadata": {
        "id": "BgGGp39v4Yc7"
      },
      "outputs": [],
      "source": [
        "import itertools\n",
        "import torch.optim as optim\n",
        "\n",
        "# Loss functions\n",
        "criterion_GAN = nn.MSELoss()\n",
        "criterion_cycle = nn.L1Loss()\n",
        "criterion_identity = nn.L1Loss()\n",
        "\n",
        "# Optimizers\n",
        "optimizer_G = optim.Adam(itertools.chain(cycle_gan.G_XtoY.parameters(), cycle_gan.G_YtoX.parameters()), lr=0.0002, betas=(0.5, 0.999))\n",
        "optimizer_D_X = optim.Adam(cycle_gan.D_X.parameters(), lr=0.0001, betas=(0.5, 0.999))\n",
        "optimizer_D_Y = optim.Adam(cycle_gan.D_Y.parameters(), lr=0.0001, betas=(0.5, 0.999))\n"
      ]
    },
    {
      "cell_type": "markdown",
      "metadata": {
        "id": "ET0FiQM5j7qO"
      },
      "source": [
        "### model training"
      ]
    },
    {
      "cell_type": "code",
      "execution_count": null,
      "metadata": {
        "colab": {
          "base_uri": "https://localhost:8080/"
        },
        "id": "NXprUH6f4aaV",
        "outputId": "ab3c2533-5be5-4327-c6d3-91570ba90b8a"
      },
      "outputs": [
        {
          "output_type": "stream",
          "name": "stdout",
          "text": [
            "[Epoch 0/5] [Batch 0/66] [D loss: 0.5256150960922241] [G loss: 12.734230995178223]\n"
          ]
        }
      ],
      "source": [
        "# Training loop\n",
        "# num_epochs = 100\n",
        "num_epochs = 5\n",
        "for epoch in range(num_epochs):\n",
        "    for i, (data_X, data_Y) in enumerate(zip(older_dataloader, younger_dataloader)):\n",
        "        # Get real images\n",
        "        real_X = data_X[0].to(device)\n",
        "        real_Y = data_Y[0].to(device)\n",
        "\n",
        "        # Adversarial ground truths with the same shape as discriminator outputs\n",
        "        valid = torch.ones(real_X.size(0), 1, 15, 15, dtype=torch.float, requires_grad=False).to(device)\n",
        "        fake = torch.zeros(real_X.size(0), 1, 15, 15, dtype=torch.float, requires_grad=False).to(device)\n",
        "\n",
        "        # ----------------------\n",
        "        #  Train Generators\n",
        "        # ----------------------\n",
        "\n",
        "        optimizer_G.zero_grad()\n",
        "\n",
        "        # Identity loss\n",
        "        loss_id_X = criterion_identity(cycle_gan.G_YtoX(real_X), real_X)\n",
        "        loss_id_Y = criterion_identity(cycle_gan.G_XtoY(real_Y), real_Y)\n",
        "\n",
        "        loss_identity = (loss_id_X + loss_id_Y) / 2\n",
        "\n",
        "        # GAN loss\n",
        "        fake_Y = cycle_gan.G_XtoY(real_X)\n",
        "        loss_GAN_XtoY = criterion_GAN(cycle_gan.D_Y(fake_Y), valid)\n",
        "\n",
        "        fake_X = cycle_gan.G_YtoX(real_Y)\n",
        "        loss_GAN_YtoX = criterion_GAN(cycle_gan.D_X(fake_X), valid)\n",
        "\n",
        "        loss_GAN = (loss_GAN_XtoY + loss_GAN_YtoX) / 2\n",
        "\n",
        "        # Cycle loss\n",
        "        recov_X = cycle_gan.G_YtoX(fake_Y)\n",
        "        loss_cycle_X = criterion_cycle(recov_X, real_X)\n",
        "\n",
        "        recov_Y = cycle_gan.G_XtoY(fake_X)\n",
        "        loss_cycle_Y = criterion_cycle(recov_Y, real_Y)\n",
        "\n",
        "        loss_cycle = (loss_cycle_X + loss_cycle_Y) / 2\n",
        "\n",
        "        # Total loss\n",
        "        loss_G = loss_GAN + 10.0 * loss_cycle + 5.0 * loss_identity\n",
        "\n",
        "        loss_G.backward()\n",
        "        optimizer_G.step()\n",
        "\n",
        "        # Adjust output range of generated images\n",
        "        fake_Y = (fake_Y + 1) / 2  # Map from [-1, 1] to [0, 1]\n",
        "        fake_X = (fake_X + 1) / 2  # Map from [-1, 1] to [0, 1]\n",
        "\n",
        "        # ----------------------\n",
        "        #  Train Discriminators\n",
        "        # ----------------------\n",
        "\n",
        "        # Discriminator X\n",
        "        optimizer_D_X.zero_grad()\n",
        "\n",
        "        loss_real_X = criterion_GAN(cycle_gan.D_X(real_X), valid)\n",
        "        loss_fake_X = criterion_GAN(cycle_gan.D_X(fake_X.detach()), fake)\n",
        "\n",
        "        loss_D_X = (loss_real_X + loss_fake_X) / 2\n",
        "\n",
        "        loss_D_X.backward()\n",
        "        optimizer_D_X.step()\n",
        "\n",
        "        # Discriminator Y\n",
        "        optimizer_D_Y.zero_grad()\n",
        "\n",
        "        loss_real_Y = criterion_GAN(cycle_gan.D_Y(real_Y), valid)\n",
        "        loss_fake_Y = criterion_GAN(cycle_gan.D_Y(fake_Y.detach()), fake)\n",
        "\n",
        "        loss_D_Y = (loss_real_Y + loss_fake_Y) / 2\n",
        "\n",
        "        loss_D_Y.backward()\n",
        "        optimizer_D_Y.step()\n",
        "\n",
        "        print(f\"[Epoch {epoch}/{num_epochs}] [Batch {i}/{len(older_dataloader)}] \"\n",
        "              f\"[D loss: {loss_D_X.item() + loss_D_Y.item()}] [G loss: {loss_G.item()}]\")\n"
      ]
    },
    {
      "cell_type": "code",
      "execution_count": null,
      "metadata": {
        "id": "YJAT1JUuqam_"
      },
      "outputs": [],
      "source": [
        "cycle_gan.eval"
      ]
    },
    {
      "cell_type": "markdown",
      "metadata": {
        "id": "flaH_pXvj_Qy"
      },
      "source": [
        "## training한 모델 저장하기"
      ]
    },
    {
      "cell_type": "code",
      "execution_count": null,
      "metadata": {
        "id": "NBOXzD3M4oge"
      },
      "outputs": [],
      "source": [
        "# Save the model\n",
        "torch.save(cycle_gan.state_dict(), '/content/drive/MyDrive/deep_learning/cycle_gan_model2.pth')\n",
        "torch.save(cycle_gan.state_dict(), 'cycle_gan_state_dict.pth')"
      ]
    },
    {
      "cell_type": "markdown",
      "metadata": {
        "id": "14JZOEIFkB7G"
      },
      "source": [
        "### trained된 모델로 이미지 넣어 결과물 보기"
      ]
    },
    {
      "cell_type": "markdown",
      "metadata": {
        "id": "6xGUj9ZrkJOE"
      },
      "source": [
        "우선 저장된 모델 불러오기"
      ]
    },
    {
      "cell_type": "code",
      "execution_count": null,
      "metadata": {
        "colab": {
          "base_uri": "https://localhost:8080/"
        },
        "id": "lQC0PY14hvyy",
        "outputId": "10c976a4-c282-486d-955d-ed7e34ddd94e"
      },
      "outputs": [
        {
          "data": {
            "text/plain": [
              "CycleGAN(\n",
              "  (G_XtoY): Generator(\n",
              "    (main): Sequential(\n",
              "      (0): Conv2d(3, 64, kernel_size=(4, 4), stride=(2, 2), padding=(1, 1))\n",
              "      (1): ReLU(inplace=True)\n",
              "      (2): Conv2d(64, 128, kernel_size=(4, 4), stride=(2, 2), padding=(1, 1))\n",
              "      (3): BatchNorm2d(128, eps=1e-05, momentum=0.1, affine=True, track_running_stats=True)\n",
              "      (4): ReLU(inplace=True)\n",
              "      (5): Conv2d(128, 256, kernel_size=(4, 4), stride=(2, 2), padding=(1, 1))\n",
              "      (6): BatchNorm2d(256, eps=1e-05, momentum=0.1, affine=True, track_running_stats=True)\n",
              "      (7): ReLU(inplace=True)\n",
              "      (8): Conv2d(256, 512, kernel_size=(4, 4), stride=(2, 2), padding=(1, 1))\n",
              "      (9): BatchNorm2d(512, eps=1e-05, momentum=0.1, affine=True, track_running_stats=True)\n",
              "      (10): ReLU(inplace=True)\n",
              "      (11): ConvTranspose2d(512, 256, kernel_size=(4, 4), stride=(2, 2), padding=(1, 1))\n",
              "      (12): BatchNorm2d(256, eps=1e-05, momentum=0.1, affine=True, track_running_stats=True)\n",
              "      (13): ReLU(inplace=True)\n",
              "      (14): ConvTranspose2d(256, 128, kernel_size=(4, 4), stride=(2, 2), padding=(1, 1))\n",
              "      (15): BatchNorm2d(128, eps=1e-05, momentum=0.1, affine=True, track_running_stats=True)\n",
              "      (16): ReLU(inplace=True)\n",
              "      (17): ConvTranspose2d(128, 64, kernel_size=(4, 4), stride=(2, 2), padding=(1, 1))\n",
              "      (18): BatchNorm2d(64, eps=1e-05, momentum=0.1, affine=True, track_running_stats=True)\n",
              "      (19): ReLU(inplace=True)\n",
              "      (20): ConvTranspose2d(64, 3, kernel_size=(4, 4), stride=(2, 2), padding=(1, 1))\n",
              "      (21): Tanh()\n",
              "    )\n",
              "  )\n",
              "  (G_YtoX): Generator(\n",
              "    (main): Sequential(\n",
              "      (0): Conv2d(3, 64, kernel_size=(4, 4), stride=(2, 2), padding=(1, 1))\n",
              "      (1): ReLU(inplace=True)\n",
              "      (2): Conv2d(64, 128, kernel_size=(4, 4), stride=(2, 2), padding=(1, 1))\n",
              "      (3): BatchNorm2d(128, eps=1e-05, momentum=0.1, affine=True, track_running_stats=True)\n",
              "      (4): ReLU(inplace=True)\n",
              "      (5): Conv2d(128, 256, kernel_size=(4, 4), stride=(2, 2), padding=(1, 1))\n",
              "      (6): BatchNorm2d(256, eps=1e-05, momentum=0.1, affine=True, track_running_stats=True)\n",
              "      (7): ReLU(inplace=True)\n",
              "      (8): Conv2d(256, 512, kernel_size=(4, 4), stride=(2, 2), padding=(1, 1))\n",
              "      (9): BatchNorm2d(512, eps=1e-05, momentum=0.1, affine=True, track_running_stats=True)\n",
              "      (10): ReLU(inplace=True)\n",
              "      (11): ConvTranspose2d(512, 256, kernel_size=(4, 4), stride=(2, 2), padding=(1, 1))\n",
              "      (12): BatchNorm2d(256, eps=1e-05, momentum=0.1, affine=True, track_running_stats=True)\n",
              "      (13): ReLU(inplace=True)\n",
              "      (14): ConvTranspose2d(256, 128, kernel_size=(4, 4), stride=(2, 2), padding=(1, 1))\n",
              "      (15): BatchNorm2d(128, eps=1e-05, momentum=0.1, affine=True, track_running_stats=True)\n",
              "      (16): ReLU(inplace=True)\n",
              "      (17): ConvTranspose2d(128, 64, kernel_size=(4, 4), stride=(2, 2), padding=(1, 1))\n",
              "      (18): BatchNorm2d(64, eps=1e-05, momentum=0.1, affine=True, track_running_stats=True)\n",
              "      (19): ReLU(inplace=True)\n",
              "      (20): ConvTranspose2d(64, 3, kernel_size=(4, 4), stride=(2, 2), padding=(1, 1))\n",
              "      (21): Tanh()\n",
              "    )\n",
              "  )\n",
              "  (D_X): Discriminator(\n",
              "    (main): Sequential(\n",
              "      (0): Conv2d(3, 64, kernel_size=(4, 4), stride=(2, 2), padding=(1, 1))\n",
              "      (1): LeakyReLU(negative_slope=0.2, inplace=True)\n",
              "      (2): Conv2d(64, 128, kernel_size=(4, 4), stride=(2, 2), padding=(1, 1))\n",
              "      (3): BatchNorm2d(128, eps=1e-05, momentum=0.1, affine=True, track_running_stats=True)\n",
              "      (4): LeakyReLU(negative_slope=0.2, inplace=True)\n",
              "      (5): Conv2d(128, 256, kernel_size=(4, 4), stride=(2, 2), padding=(1, 1))\n",
              "      (6): BatchNorm2d(256, eps=1e-05, momentum=0.1, affine=True, track_running_stats=True)\n",
              "      (7): LeakyReLU(negative_slope=0.2, inplace=True)\n",
              "      (8): Conv2d(256, 512, kernel_size=(4, 4), stride=(2, 2), padding=(1, 1))\n",
              "      (9): BatchNorm2d(512, eps=1e-05, momentum=0.1, affine=True, track_running_stats=True)\n",
              "      (10): LeakyReLU(negative_slope=0.2, inplace=True)\n",
              "      (11): Conv2d(512, 1, kernel_size=(4, 4), stride=(1, 1), padding=(1, 1))\n",
              "      (12): Sigmoid()\n",
              "    )\n",
              "  )\n",
              "  (D_Y): Discriminator(\n",
              "    (main): Sequential(\n",
              "      (0): Conv2d(3, 64, kernel_size=(4, 4), stride=(2, 2), padding=(1, 1))\n",
              "      (1): LeakyReLU(negative_slope=0.2, inplace=True)\n",
              "      (2): Conv2d(64, 128, kernel_size=(4, 4), stride=(2, 2), padding=(1, 1))\n",
              "      (3): BatchNorm2d(128, eps=1e-05, momentum=0.1, affine=True, track_running_stats=True)\n",
              "      (4): LeakyReLU(negative_slope=0.2, inplace=True)\n",
              "      (5): Conv2d(128, 256, kernel_size=(4, 4), stride=(2, 2), padding=(1, 1))\n",
              "      (6): BatchNorm2d(256, eps=1e-05, momentum=0.1, affine=True, track_running_stats=True)\n",
              "      (7): LeakyReLU(negative_slope=0.2, inplace=True)\n",
              "      (8): Conv2d(256, 512, kernel_size=(4, 4), stride=(2, 2), padding=(1, 1))\n",
              "      (9): BatchNorm2d(512, eps=1e-05, momentum=0.1, affine=True, track_running_stats=True)\n",
              "      (10): LeakyReLU(negative_slope=0.2, inplace=True)\n",
              "      (11): Conv2d(512, 1, kernel_size=(4, 4), stride=(1, 1), padding=(1, 1))\n",
              "      (12): Sigmoid()\n",
              "    )\n",
              "  )\n",
              ")"
            ]
          },
          "execution_count": 77,
          "metadata": {},
          "output_type": "execute_result"
        }
      ],
      "source": [
        "import torch\n",
        "from torchvision import transforms\n",
        "from PIL import Image\n",
        "\n",
        "# Assuming you have defined your CycleGAN model class (CycleGAN) and its architecture\n",
        "\n",
        "# Instantiate the CycleGAN model\n",
        "cycle_gan = CycleGAN()\n",
        "\n",
        "# Load the trained model weights\n",
        "model_path = '/content/drive/MyDrive/test/cycle_gan_model1.pth'\n",
        "\n",
        "cycle_gan.load_state_dict(torch.load(model_path))\n",
        "\n",
        "# Set the model to evaluation mode\n",
        "cycle_gan.eval()\n",
        "\n",
        "# Move the model to CUDA if available\n",
        "device = torch.device(\"cuda\" if torch.cuda.is_available() else \"cpu\")\n",
        "cycle_gan.to(device)\n"
      ]
    },
    {
      "cell_type": "markdown",
      "metadata": {
        "id": "UC2Ww7m9kMSy"
      },
      "source": [
        "input 이미지 사진 transform하고 tensor로 변환하기"
      ]
    },
    {
      "cell_type": "code",
      "execution_count": null,
      "metadata": {
        "id": "H7_eAuFth62r"
      },
      "outputs": [],
      "source": [
        "# Define transformations for the input image\n",
        "transform = transforms.Compose([\n",
        "    transforms.Resize((256, 256)),  # Resize to the model's input size\n",
        "    transforms.ToTensor(),  # Convert PIL image to tensor\n",
        "    #transforms.Normalize((0.5, 0.5, 0.5), (0.5, 0.5, 0.5))  # Normalize to [-1, 1]\n",
        "    #transforms.Normalize(mean=[0.5, 0.5, 0.5], std=[0.5, 0.5, 0.5])\n",
        "])\n",
        "\n",
        "# Load and preprocess the test image\n",
        "input_image_path = '/content/drive/MyDrive/deep_learning/older_face1.jpg'\n",
        "input_image = Image.open(input_image_path).convert('RGB')\n",
        "input_tensor = transform(input_image).unsqueeze(0).to(device)\n"
      ]
    },
    {
      "cell_type": "code",
      "execution_count": null,
      "metadata": {
        "colab": {
          "base_uri": "https://localhost:8080/"
        },
        "id": "iPSDyEi8WrO7",
        "outputId": "6471ea32-abfe-4fe7-e19b-6bb47b82bc78"
      },
      "outputs": [
        {
          "data": {
            "text/plain": [
              "tensor([[[[-0.1301, -0.1371, -0.1335,  ..., -0.1367, -0.1336, -0.1269],\n",
              "          [-0.1341, -0.0983, -0.1355,  ..., -0.0975, -0.1352, -0.1116],\n",
              "          [-0.1406, -0.1379, -0.1421,  ..., -0.1429, -0.1411, -0.1321],\n",
              "          ...,\n",
              "          [-0.1333, -0.0975, -0.1374,  ..., -0.0978, -0.1363, -0.1096],\n",
              "          [-0.1404, -0.1404, -0.1395,  ..., -0.1445, -0.1398, -0.1290],\n",
              "          [-0.1384, -0.1082, -0.1397,  ..., -0.1106, -0.1406, -0.1214]],\n",
              "\n",
              "         [[-0.1050, -0.1187, -0.1042,  ..., -0.1212, -0.1020, -0.1065],\n",
              "          [-0.1124, -0.0901, -0.0928,  ..., -0.0915, -0.0897, -0.0891],\n",
              "          [-0.1186, -0.1476, -0.1287,  ..., -0.1433, -0.1311, -0.1263],\n",
              "          ...,\n",
              "          [-0.1132, -0.0887, -0.0922,  ..., -0.0896, -0.0930, -0.0902],\n",
              "          [-0.1176, -0.1493, -0.1308,  ..., -0.1459, -0.1332, -0.1269],\n",
              "          [-0.1156, -0.1119, -0.1025,  ..., -0.1133, -0.1023, -0.1081]],\n",
              "\n",
              "         [[ 0.0940,  0.0955,  0.0792,  ...,  0.0936,  0.0787,  0.0970],\n",
              "          [ 0.0904,  0.0928,  0.0776,  ...,  0.0902,  0.0749,  0.0855],\n",
              "          [ 0.0861,  0.0901,  0.0721,  ...,  0.0889,  0.0744,  0.0948],\n",
              "          ...,\n",
              "          [ 0.0907,  0.0987,  0.0756,  ...,  0.0918,  0.0742,  0.0846],\n",
              "          [ 0.0860,  0.0887,  0.0775,  ...,  0.0891,  0.0761,  0.0942],\n",
              "          [ 0.0848,  0.1054,  0.0685,  ...,  0.1059,  0.0680,  0.0967]]]],\n",
              "       device='cuda:0')"
            ]
          },
          "execution_count": 89,
          "metadata": {},
          "output_type": "execute_result"
        }
      ],
      "source": [
        "output_tensor"
      ]
    },
    {
      "cell_type": "code",
      "execution_count": null,
      "metadata": {
        "colab": {
          "base_uri": "https://localhost:8080/"
        },
        "id": "HeeGssQPQv4v",
        "outputId": "570a166b-d719-4222-bed9-7606aab014dc"
      },
      "outputs": [
        {
          "data": {
            "text/plain": [
              "tensor([[[[ 0.2941,  0.2941,  0.2863,  ...,  0.2471,  0.2549,  0.2627],\n",
              "          [ 0.2863,  0.2863,  0.2784,  ...,  0.2471,  0.2549,  0.2627],\n",
              "          [ 0.2784,  0.2784,  0.2706,  ...,  0.2392,  0.2549,  0.2627],\n",
              "          ...,\n",
              "          [ 0.0039,  0.0039,  0.0118,  ...,  0.1137,  0.1451,  0.2000],\n",
              "          [ 0.0039,  0.0118,  0.0118,  ...,  0.1059,  0.0196, -0.1059],\n",
              "          [ 0.0118,  0.0118,  0.0118,  ...,  0.0275, -0.1373, -0.3647]],\n",
              "\n",
              "         [[ 0.1059,  0.1059,  0.0980,  ...,  0.0667,  0.0745,  0.0824],\n",
              "          [ 0.0980,  0.0980,  0.0902,  ...,  0.0667,  0.0745,  0.0824],\n",
              "          [ 0.0902,  0.0902,  0.0824,  ...,  0.0588,  0.0745,  0.0824],\n",
              "          ...,\n",
              "          [-0.1216, -0.1216, -0.1137,  ..., -0.0039,  0.0275,  0.0824],\n",
              "          [-0.1216, -0.1137, -0.1137,  ..., -0.0118, -0.0980, -0.2235],\n",
              "          [-0.1137, -0.1137, -0.1137,  ..., -0.0902, -0.2549, -0.4824]],\n",
              "\n",
              "         [[-0.0980, -0.0980, -0.1059,  ..., -0.2000, -0.1922, -0.1843],\n",
              "          [-0.1059, -0.1059, -0.1137,  ..., -0.2000, -0.1922, -0.1843],\n",
              "          [-0.1137, -0.1137, -0.1216,  ..., -0.2078, -0.1922, -0.1843],\n",
              "          ...,\n",
              "          [-0.3804, -0.3804, -0.3725,  ..., -0.0510, -0.0039,  0.0431],\n",
              "          [-0.3804, -0.3725, -0.3725,  ..., -0.0431, -0.1216, -0.2471],\n",
              "          [-0.3725, -0.3725, -0.3725,  ..., -0.1216, -0.2784, -0.5059]]]],\n",
              "       device='cuda:0')"
            ]
          },
          "execution_count": 79,
          "metadata": {},
          "output_type": "execute_result"
        }
      ],
      "source": [
        "input_tensor"
      ]
    },
    {
      "cell_type": "markdown",
      "metadata": {
        "id": "nF3HX1FRkQpO"
      },
      "source": [
        "### output tensor 다시 이미지로 변환하고 결과물 저장하기"
      ]
    },
    {
      "cell_type": "code",
      "execution_count": null,
      "metadata": {
        "id": "wboNI6rnh2Oy"
      },
      "outputs": [],
      "source": [
        "with torch.no_grad():\n",
        "  # Perform translation\n",
        "  output_tensor = cycle_gan.G_XtoY(input_tensor)  # Assuming you want to translate to domain Y\n",
        "\n",
        "  # Convert the output tensor to a PIL image\n",
        "  output_ts = output_tensor.squeeze().cuda()\n",
        "  #output_ts1 = output_ts * 0.5 + 0.5\n",
        "  output_image = transforms.ToPILImage()(output_ts)\n",
        "\n",
        "  # Display or save the translated image\n",
        "  output_image.show()\n",
        "\n",
        "  # Or save it to a file\n",
        "  output_image.save('/content/drive/MyDrive/test/translated_image5.png')\n"
      ]
    },
    {
      "cell_type": "code",
      "execution_count": null,
      "metadata": {
        "colab": {
          "base_uri": "https://localhost:8080/"
        },
        "id": "kiBD5FU6W8Vo",
        "outputId": "36878085-1c41-4788-b172-bc5227a67bac"
      },
      "outputs": [
        {
          "data": {
            "text/plain": [
              "torch.Size([3, 256, 256])"
            ]
          },
          "execution_count": 96,
          "metadata": {},
          "output_type": "execute_result"
        }
      ],
      "source": [
        "output_ts1.shape"
      ]
    },
    {
      "cell_type": "code",
      "execution_count": null,
      "metadata": {
        "colab": {
          "base_uri": "https://localhost:8080/"
        },
        "id": "jj3xd5klVXUE",
        "outputId": "7cfda6d3-110e-4177-b591-9a259f4c4528"
      },
      "outputs": [
        {
          "data": {
            "text/plain": [
              "torch.Size([1, 3, 256, 256])"
            ]
          },
          "execution_count": 97,
          "metadata": {},
          "output_type": "execute_result"
        }
      ],
      "source": [
        "output_tensor.shape"
      ]
    },
    {
      "cell_type": "code",
      "execution_count": null,
      "metadata": {
        "colab": {
          "base_uri": "https://localhost:8080/",
          "height": 273
        },
        "id": "bupmaPhqWLpE",
        "outputId": "660ee4e0-5bff-40e4-8d54-5173797a8d48"
      },
      "outputs": [
        {
          "data": {
            "image/png": "[encoded data removed]",
            "text/plain": [
              "<PIL.Image.Image image mode=RGB size=256x256>"
            ]
          },
          "execution_count": 102,
          "metadata": {},
          "output_type": "execute_result"
        }
      ],
      "source": [
        "output_image"
      ]
    },
    {
      "cell_type": "code",
      "execution_count": null,
      "metadata": {
        "colab": {
          "base_uri": "https://localhost:8080/"
        },
        "id": "uCcezC7zRMYk",
        "outputId": "22009a9a-2cf3-4fcc-c223-82be2c721da5"
      },
      "outputs": [
        {
          "name": "stdout",
          "output_type": "stream",
          "text": [
            "Tensor min: -0.15204200148582458\n",
            "Tensor max: 0.10897466540336609\n",
            "Tensor mean: -0.052812766283750534\n",
            "Tensor shape: torch.Size([3, 256, 256])\n"
          ]
        }
      ],
      "source": [
        "import torch\n",
        "from torchvision import transforms\n",
        "from PIL import Image\n",
        "\n",
        "with torch.no_grad():\n",
        "    # Perform translation\n",
        "    output_tensor = cycle_gan.G_XtoY(input_tensor)  # Assuming you want to translate to domain Y\n",
        "\n",
        "    # Squeeze the output tensor and move to CPU if necessary\n",
        "    output_ts = output_tensor.squeeze().cuda()\n",
        "\n",
        "    # Check tensor values\n",
        "    print(f'Tensor min: {output_ts.min()}')\n",
        "    print(f'Tensor max: {output_ts.max()}')\n",
        "    print(f'Tensor mean: {output_ts.mean()}')\n",
        "    print(f'Tensor shape: {output_ts.shape}')\n",
        "\n",
        "    # Denormalize the tensor (assuming the model output is in the range [-1, 1])\n",
        "    output_ts = (output_ts + 1) * 0.5\n",
        "\n",
        "    # Optionally scale to [0, 255]\n",
        "    output_ts = output_ts\n",
        "\n",
        "    # Convert the tensor to a PIL image\n",
        "    output_image = transforms.ToPILImage()(output_ts)\n",
        "\n",
        "    # Display or save the translated image\n",
        "    output_image.show()\n",
        "\n",
        "    # Or save it to a file\n",
        "    output_image.save('/content/drive/MyDrive/deep_learning/translated_image4.png')\n"
      ]
    },
    {
      "cell_type": "code",
      "execution_count": null,
      "metadata": {
        "colab": {
          "base_uri": "https://localhost:8080/"
        },
        "id": "n6XOPiKoQ0Zd",
        "outputId": "a980ca1f-8785-4411-aa1b-b4fbf441ea8e"
      },
      "outputs": [
        {
          "data": {
            "text/plain": [
              "tensor([[[0.4350, 0.4315, 0.4333,  ..., 0.4317, 0.4332, 0.4365],\n",
              "         [0.4330, 0.4509, 0.4322,  ..., 0.4512, 0.4324, 0.4442],\n",
              "         [0.4297, 0.4311, 0.4290,  ..., 0.4285, 0.4295, 0.4340],\n",
              "         ...,\n",
              "         [0.4334, 0.4512, 0.4313,  ..., 0.4511, 0.4319, 0.4452],\n",
              "         [0.4298, 0.4298, 0.4303,  ..., 0.4278, 0.4301, 0.4355],\n",
              "         [0.4308, 0.4459, 0.4301,  ..., 0.4447, 0.4297, 0.4393]],\n",
              "\n",
              "        [[0.4475, 0.4407, 0.4479,  ..., 0.4394, 0.4490, 0.4467],\n",
              "         [0.4438, 0.4549, 0.4536,  ..., 0.4543, 0.4552, 0.4555],\n",
              "         [0.4407, 0.4262, 0.4356,  ..., 0.4284, 0.4344, 0.4368],\n",
              "         ...,\n",
              "         [0.4434, 0.4557, 0.4539,  ..., 0.4552, 0.4535, 0.4549],\n",
              "         [0.4412, 0.4253, 0.4346,  ..., 0.4270, 0.4334, 0.4365],\n",
              "         [0.4422, 0.4440, 0.4487,  ..., 0.4433, 0.4488, 0.4459]],\n",
              "\n",
              "        [[0.5470, 0.5478, 0.5396,  ..., 0.5468, 0.5394, 0.5485],\n",
              "         [0.5452, 0.5464, 0.5388,  ..., 0.5451, 0.5374, 0.5427],\n",
              "         [0.5430, 0.5450, 0.5361,  ..., 0.5444, 0.5372, 0.5474],\n",
              "         ...,\n",
              "         [0.5453, 0.5493, 0.5378,  ..., 0.5459, 0.5371, 0.5423],\n",
              "         [0.5430, 0.5444, 0.5387,  ..., 0.5445, 0.5380, 0.5471],\n",
              "         [0.5424, 0.5527, 0.5342,  ..., 0.5530, 0.5340, 0.5483]]],\n",
              "       device='cuda:0')"
            ]
          },
          "execution_count": 74,
          "metadata": {},
          "output_type": "execute_result"
        }
      ],
      "source": [
        "output_ts"
      ]
    },
    {
      "cell_type": "code",
      "execution_count": null,
      "metadata": {
        "colab": {
          "base_uri": "https://localhost:8080/",
          "height": 273
        },
        "id": "lh22wTbUPXrw",
        "outputId": "dbe7f985-c88f-48c4-cd69-48b48bc8747e"
      },
      "outputs": [
        {
          "data": {
            "image/png": "[encoded data removed]",
            "text/plain": [
              "<PIL.Image.Image image mode=RGB size=256x256>"
            ]
          },
          "execution_count": 75,
          "metadata": {},
          "output_type": "execute_result"
        }
      ],
      "source": [
        "output_image"
      ]
    },
    {
      "cell_type": "code",
      "execution_count": null,
      "metadata": {
        "id": "FB2Sc3BDQLUa"
      },
      "outputs": [],
      "source": []
    }
  ],
  "metadata": {
    "accelerator": "GPU",
    "colab": {
      "gpuType": "T4",
      "provenance": [],
      "include_colab_link": true
    },
    "kernelspec": {
      "display_name": "Python 3",
      "name": "python3"
    },
    "language_info": {
      "name": "python"
    }
  },
  "nbformat": 4,
  "nbformat_minor": 0
}